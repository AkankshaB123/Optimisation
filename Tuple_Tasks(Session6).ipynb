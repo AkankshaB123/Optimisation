{
  "nbformat": 4,
  "nbformat_minor": 0,
  "metadata": {
    "colab": {
      "provenance": [],
      "authorship_tag": "ABX9TyOmXLlqdMgUOzNV+2gxBT2j",
      "include_colab_link": true
    },
    "kernelspec": {
      "name": "python3",
      "display_name": "Python 3"
    },
    "language_info": {
      "name": "python"
    }
  },
  "cells": [
    {
      "cell_type": "markdown",
      "metadata": {
        "id": "view-in-github",
        "colab_type": "text"
      },
      "source": [
        "<a href=\"https://colab.research.google.com/github/AkankshaB123/Optimisation/blob/main/Tuple_Tasks(Session6).ipynb\" target=\"_parent\"><img src=\"https://colab.research.google.com/assets/colab-badge.svg\" alt=\"Open In Colab\"/></a>"
      ]
    },
    {
      "cell_type": "code",
      "execution_count": null,
      "metadata": {
        "id": "Z2OtK6rAbaho"
      },
      "outputs": [],
      "source": []
    },
    {
      "cell_type": "markdown",
      "source": [
        "#### Task - 2\n",
        "1. Let's create 3 sets\n",
        "- s1 = {1,2,3,4,5}\n",
        "- s2 = {3,8,5,9,10}\n",
        "- s3 = {1,2,9}\n",
        "- Add 100 to each one of them\n",
        "- Find their intersection: s1 and s2, s2 and s3, s3 and s1\n",
        "- Is s3 a subset of (s1 union s2)?\n",
        "- Find the NET sorted values using all elements in all 3 sets - Descending\n",
        "- Convert the sets after union to a list and then a tuple and access the last value"
      ],
      "metadata": {
        "id": "4kTkH_T9bcWo"
      }
    },
    {
      "cell_type": "code",
      "source": [
        "s1 = {1,2,3,4,5}\n",
        "s2 = {3,8,5,9,10}\n",
        "s3 = {1,2,9}\n",
        "\n",
        "s1.add(100)\n",
        "s2.add(100)\n",
        "s3.add(100)"
      ],
      "metadata": {
        "id": "h2Lv6sO0cC0c"
      },
      "execution_count": 1,
      "outputs": []
    },
    {
      "cell_type": "code",
      "source": [
        "print(s1.intersection(s2))\n",
        "print(s3.intersection(s2))\n",
        "print(s1.intersection(s3))"
      ],
      "metadata": {
        "colab": {
          "base_uri": "https://localhost:8080/"
        },
        "id": "roWvuQUgcSH6",
        "outputId": "b4c9eefe-64e0-41f7-a1d0-d0849e6b385d"
      },
      "execution_count": 2,
      "outputs": [
        {
          "output_type": "stream",
          "name": "stdout",
          "text": [
            "{3, 100, 5}\n",
            "{9, 100}\n",
            "{1, 2, 100}\n"
          ]
        }
      ]
    },
    {
      "cell_type": "code",
      "source": [
        "s3.issubset(s1.union(s2))"
      ],
      "metadata": {
        "colab": {
          "base_uri": "https://localhost:8080/"
        },
        "id": "Isvl_OMScggE",
        "outputId": "eb42e983-5866-47ca-fd15-baa9575616b3"
      },
      "execution_count": 3,
      "outputs": [
        {
          "output_type": "execute_result",
          "data": {
            "text/plain": [
              "True"
            ]
          },
          "metadata": {},
          "execution_count": 3
        }
      ]
    },
    {
      "cell_type": "code",
      "source": [
        "sorted(s1.union(s2,s3), reverse = True)"
      ],
      "metadata": {
        "colab": {
          "base_uri": "https://localhost:8080/"
        },
        "id": "3LWe91Wfc2Js",
        "outputId": "c687f508-575d-4029-aed8-5e26b2423417"
      },
      "execution_count": 6,
      "outputs": [
        {
          "output_type": "execute_result",
          "data": {
            "text/plain": [
              "[100, 10, 9, 8, 5, 4, 3, 2, 1]"
            ]
          },
          "metadata": {},
          "execution_count": 6
        }
      ]
    },
    {
      "cell_type": "code",
      "source": [
        "tuple(list(s1.union(s2,s3)))[-1]"
      ],
      "metadata": {
        "colab": {
          "base_uri": "https://localhost:8080/"
        },
        "id": "iSbfbIf3c9--",
        "outputId": "604f2ed6-ac55-4b61-c93d-fd65b195195d"
      },
      "execution_count": 7,
      "outputs": [
        {
          "output_type": "execute_result",
          "data": {
            "text/plain": [
              "10"
            ]
          },
          "metadata": {},
          "execution_count": 7
        }
      ]
    },
    {
      "cell_type": "code",
      "source": [
        "s1.union(s2,s3)"
      ],
      "metadata": {
        "colab": {
          "base_uri": "https://localhost:8080/"
        },
        "id": "TgRMzy65dHcm",
        "outputId": "17b9bdca-3a86-43e1-90cd-e8baa64a79da"
      },
      "execution_count": 14,
      "outputs": [
        {
          "output_type": "execute_result",
          "data": {
            "text/plain": [
              "{1, 2, 3, 4, 5, 8, 9, 10, 100}"
            ]
          },
          "metadata": {},
          "execution_count": 14
        }
      ]
    },
    {
      "cell_type": "code",
      "source": [
        "print(list(s1.union(s2,s3)))"
      ],
      "metadata": {
        "colab": {
          "base_uri": "https://localhost:8080/"
        },
        "id": "ol9yGmTGdwpD",
        "outputId": "a8c028d2-b455-44cd-8360-7e617de08973"
      },
      "execution_count": 15,
      "outputs": [
        {
          "output_type": "stream",
          "name": "stdout",
          "text": [
            "[1, 2, 3, 4, 5, 100, 8, 9, 10]\n"
          ]
        }
      ]
    },
    {
      "cell_type": "code",
      "source": [
        "print(tuple(list(s1.union(s2,s3))))"
      ],
      "metadata": {
        "colab": {
          "base_uri": "https://localhost:8080/"
        },
        "id": "lRV2vTYfdyoF",
        "outputId": "9ea4f829-ec82-4d08-d4a7-e7db5857a281"
      },
      "execution_count": 16,
      "outputs": [
        {
          "output_type": "stream",
          "name": "stdout",
          "text": [
            "(1, 2, 3, 4, 5, 100, 8, 9, 10)\n"
          ]
        }
      ]
    },
    {
      "cell_type": "code",
      "source": [
        "#Why value orientation is changing as per data type - check 100th pos\n",
        "print(s1.union(s2,s3))\n",
        "print(list(s1.union(s2,s3)))\n",
        "print(tuple(list(s1.union(s2,s3))))\n",
        "#Classic problem from indexed to non-indexed data type(Set to list conversion)\n",
        "#Remember there is no orientation in set."
      ],
      "metadata": {
        "colab": {
          "base_uri": "https://localhost:8080/"
        },
        "id": "rp8drP1gdL43",
        "outputId": "2b7117e4-f636-4a52-9070-a9d25ee6d681"
      },
      "execution_count": 13,
      "outputs": [
        {
          "output_type": "stream",
          "name": "stdout",
          "text": [
            "{1, 2, 3, 4, 5, 100, 8, 9, 10}\n",
            "[1, 2, 3, 4, 5, 100, 8, 9, 10]\n",
            "(1, 2, 3, 4, 5, 100, 8, 9, 10)\n"
          ]
        }
      ]
    }
  ]
}